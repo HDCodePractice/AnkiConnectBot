{
 "cells": [
  {
   "cell_type": "markdown",
   "metadata": {},
   "source": [
    "This demo is text-to-speech from edge-tts.\n",
    "\n",
    "First one, install edge-tts.\n",
    "\n",
    "pip install edge-tts"
   ]
  },
  {
   "cell_type": "markdown",
   "metadata": {},
   "source": [
    "When run asyncio in Jupyter notebook, install nest_asyncio."
   ]
  },
  {
   "cell_type": "code",
   "execution_count": 2,
   "metadata": {},
   "outputs": [],
   "source": [
    "import asyncio\n",
    "import nest_asyncio\n",
    "nest_asyncio.apply()"
   ]
  },
  {
   "cell_type": "markdown",
   "metadata": {},
   "source": [
    "Simple use generation function to save mp3."
   ]
  },
  {
   "cell_type": "code",
   "execution_count": null,
   "metadata": {},
   "outputs": [],
   "source": [
    "import edge_tts\n",
    "\n",
    "async def generation(\n",
    "        text: str,\n",
    "        output_file: str,\n",
    "        voice: str = \"Microsoft Server Speech Text to Speech Voice (en-US, AriaNeural)\",\n",
    "        rate: str = \"+0%\",\n",
    "        volume: str = \"+0%\"):\n",
    "    commuicate = edge_tts.Communicate(text,voice,rate=rate,volume=volume)\n",
    "    await commuicate.save(output_file)\n",
    "\n",
    "\n",
    "\n",
    "asyncio.run(generation(\"Hello, World\",\"output.mp3\",voice=\"en-AU-WilliamNeural\"))"
   ]
  },
  {
   "cell_type": "code",
   "execution_count": null,
   "metadata": {},
   "outputs": [],
   "source": [
    "from typing import Dict,List\n",
    "import edge_tts\n",
    "\n",
    "async def list_voices() -> Dict[str, Dict[str, List[str]]]:\n",
    "    tts_dict = {}\n",
    "    voices = await edge_tts.list_voices()\n",
    "    for vc in voices:\n",
    "        lang = vc[\"Locale\"].split(\"-\")[0]\n",
    "        gend = vc[\"Gender\"]\n",
    "        if lang not in tts_dict:\n",
    "            tts_dict[lang] = {}\n",
    "        if gend not in tts_dict[lang]:\n",
    "            tts_dict[lang][gend] = []\n",
    "        tts_dict[lang][gend].append(vc[\"ShortName\"])\n",
    "    return tts_dict\n",
    "\n",
    "\n",
    "\n",
    "async def main():\n",
    "    voices = await list_voices()\n",
    "    langs = sorted(voices.keys())\n",
    "    print(langs)\n",
    "    genders = sorted(voices['en'].keys())\n",
    "    print(genders)\n",
    "    voices_list = sorted(voices['en']['Male'])\n",
    "    print(voices_list)\n",
    "    \n",
    "\n",
    "asyncio.run(main())\n"
   ]
  },
  {
   "cell_type": "markdown",
   "metadata": {},
   "source": [
    "You can use the script to get voice form TEXT.\n",
    "The script use `generation_audio_file` function from `src.util.tts` package"
   ]
  },
  {
   "cell_type": "code",
   "execution_count": 3,
   "metadata": {},
   "outputs": [],
   "source": [
    "import asyncio\n",
    "import nest_asyncio\n",
    "nest_asyncio.apply()\n",
    "\n",
    "import sys\n",
    "sys.path.insert(0, '..')\n",
    "from src.util.tts import generation_audio_file\n",
    "\n",
    "TITLE = \"Lisa's Lunar New Year\"\n",
    "\n",
    "TEXT=f\"\"\"\n",
    "{TITLE}\n",
    "\n",
    "Lisa was excited. Today was Lunar New Year. It was time to celebrate!\n",
    "\n",
    "Lisa started the holiday by calling her grandparents. She bowed to them over FaceTime. Next, her mom gave Lisa a red envelope. Inside was a gift of money for the new year.\n",
    "\n",
    "Lisa’s friend Susie came over for lunch. They ate noodles. “These are long life noodles!” Lisa’s mom said. “The longer the noodles, the longer our lives will be!”\n",
    "\n",
    "After lunch, the family went to the Chinatown parade. Happy crowds stood along the streets. They watched the famous Chinese dragon dance. They heard people popping firecrackers. “The firecracker noise scares off evil spirits!” Lisa’s dad said.\n",
    "\n",
    "The parade ended. Suddenly, Lisa’s dad disappeared. He returned quickly with a special dessert. The treat was yummy, crispy almond cookies. It was a sweet end to their new year celebration. It was also a great way to start the new year!\n",
    "\"\"\"\n",
    "\n",
    "async def main():\n",
    "    for lang in ['en-GB-RyanNeural','en-US-JennyNeural']:\n",
    "        await generation_audio_file(TEXT,f'{TITLE}-{lang.split(\"-\")[1]}.mp3',voice=lang)\n",
    "\n",
    "asyncio.run(main())"
   ]
  }
 ],
 "metadata": {
  "kernelspec": {
   "display_name": "hddev",
   "language": "python",
   "name": "python3"
  },
  "language_info": {
   "codemirror_mode": {
    "name": "ipython",
    "version": 3
   },
   "file_extension": ".py",
   "mimetype": "text/x-python",
   "name": "python",
   "nbconvert_exporter": "python",
   "pygments_lexer": "ipython3",
   "version": "3.12.0"
  }
 },
 "nbformat": 4,
 "nbformat_minor": 2
}
