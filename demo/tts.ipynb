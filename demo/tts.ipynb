{
 "cells": [
  {
   "cell_type": "markdown",
   "metadata": {},
   "source": [
    "This demo is text-to-speech from edge-tts.\n",
    "\n",
    "First one, install edge-tts.\n",
    "\n",
    "pip install edge-tts"
   ]
  },
  {
   "cell_type": "markdown",
   "metadata": {},
   "source": [
    "When run asyncio in Jupyter notebook, install nest_asyncio."
   ]
  },
  {
   "cell_type": "code",
   "execution_count": null,
   "metadata": {},
   "outputs": [],
   "source": [
    "import asyncio\n",
    "import nest_asyncio\n",
    "nest_asyncio.apply()"
   ]
  },
  {
   "cell_type": "markdown",
   "metadata": {},
   "source": [
    "Simple use generation function to save mp3."
   ]
  },
  {
   "cell_type": "code",
   "execution_count": 28,
   "metadata": {},
   "outputs": [],
   "source": [
    "import edge_tts\n",
    "\n",
    "async def generation(\n",
    "        text: str,\n",
    "        output_file: str,\n",
    "        voice: str = \"Microsoft Server Speech Text to Speech Voice (en-US, AriaNeural)\",\n",
    "        rate: str = \"+0%\",\n",
    "        volume: str = \"+0%\"):\n",
    "    commuicate = edge_tts.Communicate(text,voice,rate=rate,volume=volume)\n",
    "    await commuicate.save(output_file)\n",
    "\n",
    "\n",
    "\n",
    "asyncio.run(generation(\"Hello, World\",\"output.mp3\",voice=\"en-AU-WilliamNeural\"))"
   ]
  },
  {
   "cell_type": "code",
   "execution_count": 29,
   "metadata": {},
   "outputs": [
    {
     "name": "stdout",
     "output_type": "stream",
     "text": [
      "['af', 'am', 'ar', 'az', 'bg', 'bn', 'bs', 'ca', 'cs', 'cy', 'da', 'de', 'el', 'en', 'es', 'et', 'fa', 'fi', 'fil', 'fr', 'ga', 'gl', 'gu', 'he', 'hi', 'hr', 'hu', 'id', 'is', 'it', 'ja', 'jv', 'ka', 'kk', 'km', 'kn', 'ko', 'lo', 'lt', 'lv', 'mk', 'ml', 'mn', 'mr', 'ms', 'mt', 'my', 'nb', 'ne', 'nl', 'pl', 'ps', 'pt', 'ro', 'ru', 'si', 'sk', 'sl', 'so', 'sq', 'sr', 'su', 'sv', 'sw', 'ta', 'te', 'th', 'tr', 'uk', 'ur', 'uz', 'vi', 'zh', 'zu']\n",
      "['Female', 'Male']\n",
      "['en-AU-WilliamNeural', 'en-CA-LiamNeural', 'en-GB-RyanNeural', 'en-GB-ThomasNeural', 'en-HK-SamNeural', 'en-IE-ConnorNeural', 'en-IN-PrabhatNeural', 'en-KE-ChilembaNeural', 'en-NG-AbeoNeural', 'en-NZ-MitchellNeural', 'en-PH-JamesNeural', 'en-SG-WayneNeural', 'en-TZ-ElimuNeural', 'en-US-AndrewNeural', 'en-US-ChristopherNeural', 'en-US-EricNeural', 'en-US-GuyNeural', 'en-US-RogerNeural', 'en-US-SteffanNeural', 'en-ZA-LukeNeural']\n"
     ]
    }
   ],
   "source": [
    "from typing import Dict,List\n",
    "import edge_tts\n",
    "\n",
    "async def list_voices() -> Dict[str, Dict[str, List[str]]]:\n",
    "    tts_dict = {}\n",
    "    voices = await edge_tts.list_voices()\n",
    "    for vc in voices:\n",
    "        lang = vc[\"Locale\"].split(\"-\")[0]\n",
    "        gend = vc[\"Gender\"]\n",
    "        if lang not in tts_dict:\n",
    "            tts_dict[lang] = {}\n",
    "        if gend not in tts_dict[lang]:\n",
    "            tts_dict[lang][gend] = []\n",
    "        tts_dict[lang][gend].append(vc[\"ShortName\"])\n",
    "    return tts_dict\n",
    "\n",
    "\n",
    "\n",
    "async def main():\n",
    "    voices = await list_voices()\n",
    "    langs = sorted(voices.keys())\n",
    "    print(langs)\n",
    "    genders = sorted(voices['en'].keys())\n",
    "    print(genders)\n",
    "    voices_list = sorted(voices['en']['Male'])\n",
    "    print(voices_list)\n",
    "    \n",
    "\n",
    "asyncio.run(main())\n",
    "\n",
    "\n"
   ]
  }
 ],
 "metadata": {
  "kernelspec": {
   "display_name": "hddev",
   "language": "python",
   "name": "python3"
  },
  "language_info": {
   "codemirror_mode": {
    "name": "ipython",
    "version": 3
   },
   "file_extension": ".py",
   "mimetype": "text/x-python",
   "name": "python",
   "nbconvert_exporter": "python",
   "pygments_lexer": "ipython3",
   "version": "3.12.0"
  }
 },
 "nbformat": 4,
 "nbformat_minor": 2
}
