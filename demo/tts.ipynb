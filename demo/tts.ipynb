{
 "cells": [
  {
   "cell_type": "markdown",
   "metadata": {},
   "source": [
    "This demo is text-to-speech from edge-tts.\n",
    "\n",
    "First one, install edge-tts.\n",
    "\n",
    "pip install edge-tts"
   ]
  },
  {
   "cell_type": "markdown",
   "metadata": {},
   "source": [
    "When run asyncio in Jupyter notebook, install nest_asyncio."
   ]
  },
  {
   "cell_type": "code",
   "execution_count": 2,
   "metadata": {},
   "outputs": [],
   "source": [
    "import asyncio\n",
    "import nest_asyncio\n",
    "nest_asyncio.apply()"
   ]
  },
  {
   "cell_type": "markdown",
   "metadata": {},
   "source": [
    "Simple use generation function to save mp3."
   ]
  },
  {
   "cell_type": "code",
   "execution_count": 6,
   "metadata": {},
   "outputs": [],
   "source": [
    "import edge_tts\n",
    "\n",
    "async def generation(\n",
    "        text: str,\n",
    "        output_file: str,\n",
    "        voice: str = \"Microsoft Server Speech Text to Speech Voice (en-US, AriaNeural)\",\n",
    "        rate: str = \"+0%\",\n",
    "        volume: str = \"+0%\"):\n",
    "    commuicate = edge_tts.Communicate(text,voice,rate=rate,volume=volume)\n",
    "    await commuicate.save(output_file)\n",
    "\n",
    "\n",
    "\n",
    "# asyncio.run(generation(\"Hello, World\",\"output.mp3\",voice=\"en-AU-WilliamNeural\"))"
   ]
  },
  {
   "cell_type": "code",
   "execution_count": 3,
   "metadata": {},
   "outputs": [
    {
     "name": "stdout",
     "output_type": "stream",
     "text": [
      "['af', 'am', 'ar', 'az', 'bg', 'bn', 'bs', 'ca', 'cs', 'cy', 'da', 'de', 'el', 'en', 'es', 'et', 'fa', 'fi', 'fil', 'fr', 'ga', 'gl', 'gu', 'he', 'hi', 'hr', 'hu', 'id', 'is', 'it', 'ja', 'jv', 'ka', 'kk', 'km', 'kn', 'ko', 'lo', 'lt', 'lv', 'mk', 'ml', 'mn', 'mr', 'ms', 'mt', 'my', 'nb', 'ne', 'nl', 'pl', 'ps', 'pt', 'ro', 'ru', 'si', 'sk', 'sl', 'so', 'sq', 'sr', 'su', 'sv', 'sw', 'ta', 'te', 'th', 'tr', 'uk', 'ur', 'uz', 'vi', 'zh', 'zu']\n",
      "['Female', 'Male']\n",
      "['en-AU-NatashaNeural', 'en-CA-ClaraNeural', 'en-GB-LibbyNeural', 'en-GB-MaisieNeural', 'en-GB-SoniaNeural', 'en-HK-YanNeural', 'en-IE-EmilyNeural', 'en-IN-NeerjaExpressiveNeural', 'en-IN-NeerjaNeural', 'en-KE-AsiliaNeural', 'en-NG-EzinneNeural', 'en-NZ-MollyNeural', 'en-PH-RosaNeural', 'en-SG-LunaNeural', 'en-TZ-ImaniNeural', 'en-US-AnaNeural', 'en-US-AriaNeural', 'en-US-AvaNeural', 'en-US-JennyNeural', 'en-US-MichelleNeural', 'en-ZA-LeahNeural']\n"
     ]
    }
   ],
   "source": [
    "from typing import Dict,List\n",
    "import edge_tts\n",
    "\n",
    "async def list_voices() -> Dict[str, Dict[str, List[str]]]:\n",
    "    tts_dict = {}\n",
    "    voices = await edge_tts.list_voices()\n",
    "    for vc in voices:\n",
    "        lang = vc[\"Locale\"].split(\"-\")[0]\n",
    "        gend = vc[\"Gender\"]\n",
    "        if lang not in tts_dict:\n",
    "            tts_dict[lang] = {}\n",
    "        if gend not in tts_dict[lang]:\n",
    "            tts_dict[lang][gend] = []\n",
    "        tts_dict[lang][gend].append(vc[\"ShortName\"])\n",
    "    return tts_dict\n",
    "\n",
    "\n",
    "\n",
    "async def main():\n",
    "    voices = await list_voices()\n",
    "    langs = sorted(voices.keys())\n",
    "    print(langs)\n",
    "    genders = sorted(voices['en'].keys())\n",
    "    print(genders)\n",
    "    voices_list = sorted(voices['en']['Female'])\n",
    "    print(voices_list)\n",
    "    \n",
    "\n",
    "asyncio.run(main())\n",
    "\n",
    "\n"
   ]
  },
  {
   "cell_type": "markdown",
   "metadata": {},
   "source": [
    "You can use the script to get voice form TEXT."
   ]
  },
  {
   "cell_type": "code",
   "execution_count": 8,
   "metadata": {},
   "outputs": [],
   "source": [
    "TEXT=\"\"\"\n",
    "The Northern Lights\n",
    "Imagine you are somewhere far north on Earth. It’s nighttime, but the sky is not dark, like you might expect it to be. Instead, it’s filled with colorful lights. Some lights look like moving curtains. Others look like a steady glow, or bands across the sky. The lights are usually green, but you may see other colors, like yellow, red, purple, or blue. The lights are dazzling as they dance far above your head.\n",
    "\n",
    "What you’re imagining is the Aurora Borealis. It’s also called the Northern Lights. This natural light display has wowed people for hundreds of years. In fact, it is one of the seven natural wonders of the world.\n",
    "\n",
    "People can thank the sun for these incredible light shows. During a certain kind of solar storm, energy and small particles from the sun can travel all the way to Earth. They can enter the atmosphere near the North Pole. These particles interact with the gases in our atmosphere. This causes the beautiful lights we see in the sky.\n",
    "\n",
    "The color of the lights partly depends on the gas that interacts with the particles from the sun. Oxygen gives off green light or red light. Purples and blues come from nitrogen in the atmosphere.\n",
    "\n",
    "The same kind of light show can happen near the South Pole, as well. That display is called the Aurora Australis.\n",
    "\n",
    "It’s usually easiest to see the Northern Lights in a place where it is dark. It also helps to be far north on Earth, in places such as Canada, Iceland, Alaska, and Greenland. And, of course, you’re most likely to see the lights after there’s a big solar storm!\n",
    "\"\"\"\n",
    "\n",
    "async def main():\n",
    "    await generation(TEXT,'audio.mp3',voice='en-US-JennyNeural')\n",
    "\n",
    "asyncio.run(main())"
   ]
  }
 ],
 "metadata": {
  "kernelspec": {
   "display_name": "hddev",
   "language": "python",
   "name": "python3"
  },
  "language_info": {
   "codemirror_mode": {
    "name": "ipython",
    "version": 3
   },
   "file_extension": ".py",
   "mimetype": "text/x-python",
   "name": "python",
   "nbconvert_exporter": "python",
   "pygments_lexer": "ipython3",
   "version": "3.12.0"
  }
 },
 "nbformat": 4,
 "nbformat_minor": 2
}
