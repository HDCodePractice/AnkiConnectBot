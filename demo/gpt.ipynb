{
 "cells": [
  {
   "cell_type": "markdown",
   "metadata": {},
   "source": [
    "This Demo use a ChatGPT API to generate a card from user input."
   ]
  },
  {
   "cell_type": "code",
   "execution_count": 2,
   "metadata": {},
   "outputs": [
    {
     "name": "stdout",
     "output_type": "stream",
     "text": [
      "{\n",
      "\"Vocabulary\": \"light\",\n",
      "\"Pronunciation\": \"/laɪt/\",\n",
      "\"Definitions\": [\n",
      "{\n",
      "\"PartOfSpeech\": \"noun\",\n",
      "\"Forms\": \"\",\n",
      "\"Meaning\": \"a source of light, such as a lamp or the sun\",\n",
      "\"ChineseMeaning\": \"光源\",\n",
      "\"Example\": \"The light in the room was turned off.\",\n",
      "\"ChineseExample\": \"房间中的灯光被关了.\"\n",
      "},\n",
      "{\n",
      "\"PartOfSpeech\": \"verb\",\n",
      "\"Forms\": \"light, lighted, lighting\",\n",
      "\"Meaning\": \"to illuminate or make bright\",\n",
      "\"ChineseMeaning\": \"照明或点着光\",\n",
      "\"Example\": \"She lighted the candle.\",\n",
      "\"ChineseExample\": \"她点着烛火。\"\n",
      "}\n",
      "]\n",
      "}\n"
     ]
    }
   ],
   "source": [
    "from openai import OpenAI\n",
    "base_url = \"https://api.openai.com/v1\"\n",
    "base_url = 'http://localhost:11434/v1'\n",
    "api_key = \"ollama\"\n",
    "model=\"gpt-3.5-turbo\"\n",
    "model=\"llama2:13b\"\n",
    "client = OpenAI(base_url=base_url, api_key=api_key)\n",
    "\n",
    "sys_prompt = \"\"\"你是一位ESL英语老师。通过一个单词和它的例句来成生一个单词卡片的JSON对象。\n",
    "如果没有给出例句，请帮我生成一个简单的例句，例句越简短越好。如果给出例句，请使用对应的例句。\n",
    "JSON对象中包括以下内容:Vocabulary,Pronunciation,Definitions:[{PartOfSpeech,Forms,Meaning,ChineseMeaning,Example,ChineseExample}]\n",
    "如果在一个词性里有多种不同的含义,就按不同的含义给出Definition.但是如果有例句,就只需要给出在例句中的Definition.\n",
    "Meaning和Example尽可能使用ESL一级的词汇。\n",
    "\"\"\"\n",
    "\n",
    "user_prompt = \"Vocabulary:behavior\\nExample:His behavior at the party was a little strange.\"\n",
    "user_prompt = \"read\"\n",
    "user_prompt = \"big\"\n",
    "user_prompt = \"light\"\n",
    "# user_prompt = \"Vocabulary:light\\nExample:This suitcase is very light.\"\n",
    "\n",
    "\n",
    "response = client.chat.completions.create(\n",
    "  model=model,\n",
    "  response_format={ \"type\": \"json_object\" },\n",
    "  messages=[\n",
    "    {\"role\": \"system\", \"content\": sys_prompt},\n",
    "    {\"role\": \"user\", \"content\": user_prompt}\n",
    "  ]\n",
    ")\n",
    "\n",
    "print(response.choices[0].message.content)\n"
   ]
  }
 ],
 "metadata": {
  "kernelspec": {
   "display_name": "hddev",
   "language": "python",
   "name": "python3"
  },
  "language_info": {
   "codemirror_mode": {
    "name": "ipython",
    "version": 3
   },
   "file_extension": ".py",
   "mimetype": "text/x-python",
   "name": "python",
   "nbconvert_exporter": "python",
   "pygments_lexer": "ipython3",
   "version": "3.11.7"
  }
 },
 "nbformat": 4,
 "nbformat_minor": 2
}
