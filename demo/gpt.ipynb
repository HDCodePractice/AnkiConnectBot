{
 "cells": [
  {
   "cell_type": "markdown",
   "metadata": {},
   "source": [
    "This Demo use a ChatGPT API to generate a card from user input."
   ]
  },
  {
   "cell_type": "code",
   "execution_count": 2,
   "metadata": {},
   "outputs": [
    {
     "name": "stdout",
     "output_type": "stream",
     "text": [
      "{\n",
      "  \"Vocabulary\": \"light\",\n",
      "  \"Pronunciation\": \"laɪt\",\n",
      "  \"Definitions\": [\n",
      "    {\n",
      "      \"PartOfSpeech\": \"adjective\",\n",
      "      \"Forms\": [\"lighter\", \"lightest\"],\n",
      "      \"Meaning\": \"having little weight\",\n",
      "      \"ChineseMeaning\": \"轻的\",\n",
      "      \"Example\": \"The feather is very light.\",\n",
      "      \"ChineseExample\": \"这根羽毛非常轻。\"\n",
      "    }\n",
      "  ]\n",
      "}\n"
     ]
    }
   ],
   "source": [
    "from openai import OpenAI\n",
    "client = OpenAI()\n",
    "\n",
    "sys_prompt = \"\"\"你是一位ESL英语老师。通过一个单词和它的例句来成生一个单词卡片的JSON对象。\n",
    "如果没有给出例句，请帮我生成一个简单的例句，例句越简短越好。如果给出例句，请使用对应的例句。\n",
    "JSON对象中包括以下内容:Vocabulary,Pronunciation,Definitions:[{PartOfSpeech,Forms,Meaning,ChineseMeaning,Example,ChineseExample}]\n",
    "如果在一个词性里有多种不同的含义,就按不同的含义给出Definition.但是如果有例句,就只需要给出在例句中的Definition.\n",
    "Meaning和Example尽可能使用ESL一级的词汇。\n",
    "\"\"\"\n",
    "\n",
    "user_prompt = \"Vocabulary:behavior\\nExample:His behavior at the party was a little strange.\"\n",
    "user_prompt = \"read\"\n",
    "user_prompt = \"big\"\n",
    "user_prompt = \"light\"\n",
    "user_prompt = \"Vocabulary:light\\nExample:This suitcase is very light.\"\n",
    "\n",
    "\n",
    "response = client.chat.completions.create(\n",
    "  model=\"gpt-3.5-turbo-0125\",\n",
    "  response_format={ \"type\": \"json_object\" },\n",
    "  messages=[\n",
    "    {\"role\": \"system\", \"content\": sys_prompt},\n",
    "    {\"role\": \"user\", \"content\": user_prompt}\n",
    "  ]\n",
    ")\n",
    "\n",
    "print(response.choices[0].message.content)\n"
   ]
  }
 ],
 "metadata": {
  "kernelspec": {
   "display_name": "hddev",
   "language": "python",
   "name": "python3"
  },
  "language_info": {
   "codemirror_mode": {
    "name": "ipython",
    "version": 3
   },
   "file_extension": ".py",
   "mimetype": "text/x-python",
   "name": "python",
   "nbconvert_exporter": "python",
   "pygments_lexer": "ipython3",
   "version": "3.11.7"
  }
 },
 "nbformat": 4,
 "nbformat_minor": 2
}
