{
 "cells": [
  {
   "cell_type": "markdown",
   "metadata": {},
   "source": [
    "When Anki install [Anki-Connect](https://foosoft.net/projects/anki-connect/) and running, we can use `localhost:8765` to connect to Anki.\n",
    "\n",
    "    $ lsof -i -P | grep LISTEN\n",
    "\n",
    "You will look something like this:\n",
    "\n",
    "`anki`      36433   hd   33u     IPv4 0xf484687ce1f6717d       0t0                 `TCP` `localhost:8765` (`LISTEN`)\n",
    "\n",
    "Execute the following commands in the terminal window for disable App Nap:\n",
    "\n",
    "    defaults write net.ankiweb.dtop NSAppSleepDisabled -bool true\n",
    "    defaults write net.ichi2.anki NSAppSleepDisabled -bool true\n",
    "    defaults write org.qt-project.Qt.QtWebEngineCore NSAppSleepDisabled -bool true\n",
    "\n",
    "Basic Anki API sample:"
   ]
  },
  {
   "cell_type": "code",
   "execution_count": 9,
   "metadata": {},
   "outputs": [
    {
     "name": "stdout",
     "output_type": "stream",
     "text": [
      "['Computer Science', 'Computer Science::JavaScript - Ian', 'Computer Science::Python', '一起念英语', '老房东的 Essential English Words', '老房东的 Essential English Words::2.Book', '老房东的 Essential English Words::3.Book', '老房东的 Essential English Words::4.Book', '老房东的 Essential English Words::5.Book', '老房东的 Essential English Words::6.Book', '老房东的 Essential English Words::Extra', '背单词', '背单词::1.Book', '背单词::初中英语单词']\n"
     ]
    }
   ],
   "source": [
    "import urllib.request\n",
    "import json\n",
    "\n",
    "def request(action, **params):\n",
    "    return {\"action\": action, \"params\": params, \"version\": 6}\n",
    "\n",
    "def invoke(action, **params):\n",
    "    base_url = \"http://localhost:8765\"\n",
    "    requestJson = json.dumps(request(action, **params)).encode(\"utf-8\")\n",
    "    response = json.load(urllib.request.urlopen(\n",
    "        urllib.request.Request(base_url, requestJson)))\n",
    "    if len(response) != 2:\n",
    "        raise Exception(\"response has an unexpected number of fields\")\n",
    "    if \"error\" not in response:\n",
    "        raise Exception(\"response is missing required error field\")\n",
    "    if \"result\" not in response:\n",
    "        raise Exception(\"response is missing required result field\")\n",
    "    if response[\"error\"] is not None:\n",
    "        raise Exception(response[\"error\"])\n",
    "    return response[\"result\"]\n",
    "\n",
    "def get_deck_names():\n",
    "    return invoke(\"deckNames\")\n",
    "\n",
    "print(get_deck_names())"
   ]
  },
  {
   "cell_type": "markdown",
   "metadata": {},
   "source": [
    "Anki Query syntax is documented [here](https://docs.ankiweb.net/searching.html)."
   ]
  },
  {
   "cell_type": "code",
   "execution_count": null,
   "metadata": {},
   "outputs": [],
   "source": [
    "search = \"\"\n",
    "\n",
    "card =invoke(\"findCards\", query=\"deck:test\")[0]\n",
    "print(invoke(\"cardsInfo\", cards=[card]))\n"
   ]
  },
  {
   "cell_type": "code",
   "execution_count": 17,
   "metadata": {},
   "outputs": [
    {
     "name": "stdout",
     "output_type": "stream",
     "text": [
      "['4000 EEW', '4000 EEW Extra', 'Basic', 'Basic (and reversed card)', 'Basic (optional reversed card)', 'Basic (type in the answer)', 'Basic (with code block styling)', 'Basic+', 'Basic++', 'Cloze', 'Code output question', 'Image Occlusion', '老房东的单词卡片', '英语单词模板(vocab配色)']\n",
      "['英语单词', '英美音标', '中文释义', '英语例句', '中文例句', 'vocabulary简明', 'vocabulary扩展', '柯林斯星级', '柯林斯解释', '英语发音']\n",
      "{'英译中': [['英语单词', '英语发音', '英美音标'], ['中文释义', '英语例句', '中文例句', 'vocabulary简明', 'vocabulary扩展', '柯林斯星级', '柯林斯解释']]}\n"
     ]
    }
   ],
   "source": [
    "modelName = \"4000 EEW\"\n",
    "modelName = \"英语单词模板(vocab配色)\"\n",
    "print(invoke(\"modelNames\"))\n",
    "print(invoke(\"modelFieldNames\", modelName=modelName))\n",
    "print(invoke(\"modelFieldsOnTemplates\", modelName=modelName))\n",
    "print(invoke(\"modelTemplates\",modelName=modelName))"
   ]
  },
  {
   "cell_type": "markdown",
   "metadata": {},
   "source": [
    "ankiConnectHelper have been used to invoke a REST API call.\n",
    "\n",
    "['Word', 'Image', 'Sound', 'Sound_Meaning', 'Sound_Example', 'Meaning', 'Example', 'IPA']\n",
    "['英语单词', '英美音标', '中文释义', '英语例句', '中文例句', 'vocabulary简明', 'vocabulary扩展', '柯林斯星级', '柯林斯解释', '英语发音']"
   ]
  }
 ],
 "metadata": {
  "kernelspec": {
   "display_name": "hddev",
   "language": "python",
   "name": "python3"
  },
  "language_info": {
   "codemirror_mode": {
    "name": "ipython",
    "version": 3
   },
   "file_extension": ".py",
   "mimetype": "text/x-python",
   "name": "python",
   "nbconvert_exporter": "python",
   "pygments_lexer": "ipython3",
   "version": "3.12.0"
  }
 },
 "nbformat": 4,
 "nbformat_minor": 2
}
